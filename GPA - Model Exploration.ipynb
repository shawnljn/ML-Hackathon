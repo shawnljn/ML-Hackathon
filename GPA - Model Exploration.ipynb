{
 "cells": [
  {
   "cell_type": "markdown",
   "metadata": {},
   "source": [
    "# GPA - Geometric Pose Affordance: 3D Human Pose with Scene Constraints"
   ]
  },
  {
   "cell_type": "markdown",
   "metadata": {},
   "source": [
    "### Objective"
   ]
  },
  {
   "cell_type": "markdown",
   "metadata": {},
   "source": [
    "__Explore different models__"
   ]
  },
  {
   "cell_type": "markdown",
   "metadata": {},
   "source": [
    "### Potential Implementation"
   ]
  },
  {
   "cell_type": "markdown",
   "metadata": {},
   "source": [
    "- Parameter tuning\n",
    "- Cross validation\n",
    "- Plotting"
   ]
  },
  {
   "cell_type": "markdown",
   "metadata": {},
   "source": [
    "### Control Panel"
   ]
  },
  {
   "cell_type": "code",
   "execution_count": 1,
   "metadata": {},
   "outputs": [],
   "source": [
    "run_logistic_regression = False\n",
    "run_random_forest_regressor = False\n",
    "run_decision_tree_regressor = False\n",
    "run_ada_boost_regressor = False"
   ]
  },
  {
   "cell_type": "markdown",
   "metadata": {},
   "source": [
    "### Import Libraries"
   ]
  },
  {
   "cell_type": "code",
   "execution_count": 2,
   "metadata": {},
   "outputs": [],
   "source": [
    "import numpy as np"
   ]
  },
  {
   "cell_type": "markdown",
   "metadata": {},
   "source": [
    "### Load Data"
   ]
  },
  {
   "cell_type": "code",
   "execution_count": 3,
   "metadata": {},
   "outputs": [],
   "source": [
    "gt_3d_train_rel = np.load('train/gt_3d_train_rel.npy')\n",
    "gt_2d_test = np.load('test/gt_2d_test.npy')\n",
    "gt_2d_train = np.load('train/gt_2d_train.npy')\n",
    "gt_2d_val = np.load('validation/gt_2d_val.npy')\n",
    "gt_3d_val_rel = np.load('validation/gt_3d_val_rel.npy')"
   ]
  },
  {
   "cell_type": "markdown",
   "metadata": {},
   "source": [
    "### Define X and Y"
   ]
  },
  {
   "cell_type": "code",
   "execution_count": 4,
   "metadata": {},
   "outputs": [],
   "source": [
    "X = np.reshape(gt_2d_train, (gt_2d_train.shape[0], 16 * 2))\n",
    "Y = np.reshape(gt_3d_train_rel, (gt_3d_train_rel.shape[0], 15 * 3))\n",
    "X_val = np.reshape(gt_2d_val, (gt_2d_val.shape[0], 16 * 2))\n",
    "Y_val = np.reshape(gt_3d_val_rel, (gt_3d_val_rel.shape[0], 15 * 3))"
   ]
  },
  {
   "cell_type": "markdown",
   "metadata": {},
   "source": [
    "### Define Error Calculation Function"
   ]
  },
  {
   "cell_type": "markdown",
   "metadata": {},
   "source": [
    "Error in 3D Euclidean Space between joint prediction and joint ground truth"
   ]
  },
  {
   "cell_type": "code",
   "execution_count": 5,
   "metadata": {},
   "outputs": [],
   "source": [
    "def MPJPE_error(gt, pred): ## both prediction and ground truth in N*15*3, I will use this function to calculate final error and rank\n",
    "    error = (gt - pred) ** 2\n",
    "    pjpe = np.sum(error, 2) ** (1 / 2)\n",
    "    mpjpe = np.mean(pjpe)\n",
    "    return mpjpe"
   ]
  },
  {
   "cell_type": "markdown",
   "metadata": {},
   "source": [
    "### Linear Regression Model"
   ]
  },
  {
   "cell_type": "markdown",
   "metadata": {},
   "source": [
    "Documentation: https://scikit-learn.org/stable/modules/generated/sklearn.linear_model.LinearRegression.html"
   ]
  },
  {
   "cell_type": "markdown",
   "metadata": {},
   "source": [
    "Linear Regression fits a linear model with coefficients w = (w1, ..., wp) to minimize the residual sum of squares between the observed targets in the dataset, and the targets predicted by the linear approximation."
   ]
  },
  {
   "cell_type": "code",
   "execution_count": 6,
   "metadata": {},
   "outputs": [],
   "source": [
    "from sklearn.linear_model import LogisticRegression\n",
    "from sklearn import linear_model\n",
    "\n",
    "if run_logistic_regression:\n",
    "    regr_1 = linear_model.LinearRegression()\n",
    "    regr_1.fit(X, Y)\n",
    "    Y_val_pred_1 = regr_1.predict(X_val)\n",
    "    Y_val_pred_reshape_1 = np.reshape(Y_val_pred_1, (Y_val_pred_1.shape[0], 15, 3))\n",
    "    print(MPJPE_error(gt_3d_val_rel, Y_val_pred_reshape_1))"
   ]
  },
  {
   "cell_type": "markdown",
   "metadata": {},
   "source": [
    "Best Error: __105.8613803487669__"
   ]
  },
  {
   "cell_type": "markdown",
   "metadata": {},
   "source": [
    "### Random Forest Regressor Model"
   ]
  },
  {
   "cell_type": "markdown",
   "metadata": {},
   "source": [
    "Documentation: https://scikit-learn.org/stable/modules/generated/sklearn.ensemble.RandomForestRegressor.html"
   ]
  },
  {
   "cell_type": "markdown",
   "metadata": {},
   "source": [
    "A random forest is a meta estimator that fits a number of classifying decision trees on vairous sub-samples of the dataset and uses averaging to improve the predictive accuracy and control over-fitting. The sub-sample size is controlled with the max_samples parameter if bootstrap = True (default), otherwise the whole dataset is used to build each tree."
   ]
  },
  {
   "cell_type": "markdown",
   "metadata": {},
   "source": [
    "__Takes forever to run__"
   ]
  },
  {
   "cell_type": "code",
   "execution_count": 7,
   "metadata": {},
   "outputs": [],
   "source": [
    "from sklearn.ensemble import RandomForestRegressor\n",
    "\n",
    "if run_random_forest_regressor:\n",
    "    regr_2 = RandomForestRegressor()\n",
    "    regr_2.fit(X, Y)\n",
    "    Y_val_pred_2 = regr_2.predict(X_val)\n",
    "    Y_val_pred_reshape_2 = np.reshape(Y_val_pred_2, (Y_val_pred_2.shape[0], 15, 3))\n",
    "    print(Y_val_pred_reshape_2.shape)\n",
    "    print(MPJPE_error(gt_3d_val_rel, Y_val_pred_reshape_2))"
   ]
  },
  {
   "cell_type": "markdown",
   "metadata": {},
   "source": [
    "### Decision Tree Regressor Model"
   ]
  },
  {
   "cell_type": "markdown",
   "metadata": {},
   "source": [
    "Documentation: https://scikit-learn.org/stable/modules/generated/sklearn.tree.DecisionTreeRegressor.html#sklearn.tree.DecisionTreeRegressor"
   ]
  },
  {
   "cell_type": "code",
   "execution_count": 8,
   "metadata": {},
   "outputs": [],
   "source": [
    "from sklearn.tree import DecisionTreeRegressor\n",
    "\n",
    "if run_decision_tree_regressor:\n",
    "    regr_3 = DecisionTreeRegressor(random_state = 0)\n",
    "    regr_3.fit(X, Y)\n",
    "    Y_val_pred_3 = regr_3.predict(X_val)\n",
    "    Y_val_pred_reshape_3 = np.reshape(Y_val_pred_3, (Y_val_pred_3.shape[0], 15, 3))\n",
    "    print(MPJPE_error(gt_3d_val_rel, Y_val_pred_reshape_3))"
   ]
  },
  {
   "cell_type": "markdown",
   "metadata": {},
   "source": [
    "Best Error: __139.53805192206954__"
   ]
  },
  {
   "cell_type": "markdown",
   "metadata": {},
   "source": [
    "### Ada Boost Regressor Model"
   ]
  },
  {
   "cell_type": "markdown",
   "metadata": {},
   "source": [
    "Documentation: https://scikit-learn.org/stable/modules/generated/sklearn.ensemble.AdaBoostRegressor.html"
   ]
  },
  {
   "cell_type": "markdown",
   "metadata": {},
   "source": [
    "An AdaBoost regressor is a meta-estimator that begins by fitting a regressor on the original dataset and then fits additional copies of the regressor on the same dataset but where the weights of instances are adjusted according to the error of the current prediction. As such, subsequent regressors focus more on difficult cases."
   ]
  },
  {
   "cell_type": "markdown",
   "metadata": {},
   "source": [
    "__ValueError: bad input shape (222514, 45)__"
   ]
  },
  {
   "cell_type": "code",
   "execution_count": 9,
   "metadata": {
    "scrolled": true
   },
   "outputs": [],
   "source": [
    "from sklearn.ensemble import AdaBoostRegressor\n",
    "\n",
    "if run_ada_boost_regressor:\n",
    "    regr_4 = AdaBoostRegressor(random_state = 0, n_estimators = 100)\n",
    "    regr_4.fit(X, Y)\n",
    "    Y_val_pred_4 = regr_4.predict(X_val)\n",
    "    Y_val_pred_reshape_4 = np.reshape(Y_val_pred_4, (Y_val_pred_4.shape[0], 15, 3))\n",
    "    print(MPJPE_error(gt_3d_val_rel, Y_val_pred_reshape_4))"
   ]
  }
 ],
 "metadata": {
  "kernelspec": {
   "display_name": "Python 3",
   "language": "python",
   "name": "python3"
  },
  "language_info": {
   "codemirror_mode": {
    "name": "ipython",
    "version": 3
   },
   "file_extension": ".py",
   "mimetype": "text/x-python",
   "name": "python",
   "nbconvert_exporter": "python",
   "pygments_lexer": "ipython3",
   "version": "3.7.6"
  }
 },
 "nbformat": 4,
 "nbformat_minor": 2
}
