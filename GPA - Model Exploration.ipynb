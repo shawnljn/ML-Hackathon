{
 "cells": [
  {
   "cell_type": "markdown",
   "metadata": {},
   "source": [
    "# GPA - Geometric Pose Affordance: 3D Human Pose with Scene Constraints"
   ]
  },
  {
   "cell_type": "markdown",
   "metadata": {},
   "source": [
    "### Objective"
   ]
  },
  {
   "cell_type": "markdown",
   "metadata": {},
   "source": [
    "__Explore different models__"
   ]
  },
  {
   "cell_type": "markdown",
   "metadata": {},
   "source": [
    "### Potential Implementation"
   ]
  },
  {
   "cell_type": "markdown",
   "metadata": {},
   "source": [
    "- Parameter tuning\n",
    "- Cross validation\n",
    "- Plotting"
   ]
  },
  {
   "cell_type": "markdown",
   "metadata": {},
   "source": [
    "### Control Panel"
   ]
  },
  {
   "cell_type": "code",
   "execution_count": 1,
   "metadata": {},
   "outputs": [],
   "source": [
    "run_linear_regression = False\n",
    "run_random_forest_regressor = False\n",
    "run_decision_tree_regressor = False\n",
    "run_ada_boost_regressor = False\n",
    "run_logistic_regression = False\n",
    "run_ridge = False\n",
    "run_sdg_regressor = False\n",
    "run_lars = False\n",
    "run_lasso_lars = False\n",
    "run_mlp_regressor = False"
   ]
  },
  {
   "cell_type": "markdown",
   "metadata": {},
   "source": [
    "### Import Libraries"
   ]
  },
  {
   "cell_type": "code",
   "execution_count": 2,
   "metadata": {},
   "outputs": [],
   "source": [
    "import numpy as np"
   ]
  },
  {
   "cell_type": "markdown",
   "metadata": {},
   "source": [
    "### Load Data"
   ]
  },
  {
   "cell_type": "code",
   "execution_count": 3,
   "metadata": {},
   "outputs": [],
   "source": [
    "gt_3d_train_rel = np.load('train/gt_3d_train_rel.npy')\n",
    "gt_2d_test = np.load('test/gt_2d_test.npy')\n",
    "gt_2d_train = np.load('train/gt_2d_train.npy')\n",
    "gt_2d_val = np.load('validation/gt_2d_val.npy')\n",
    "gt_3d_val_rel = np.load('validation/gt_3d_val_rel.npy')"
   ]
  },
  {
   "cell_type": "markdown",
   "metadata": {},
   "source": [
    "### Define X and Y"
   ]
  },
  {
   "cell_type": "code",
   "execution_count": 4,
   "metadata": {},
   "outputs": [],
   "source": [
    "X = np.reshape(gt_2d_train, (gt_2d_train.shape[0], 16 * 2))\n",
    "Y = np.reshape(gt_3d_train_rel, (gt_3d_train_rel.shape[0], 15 * 3))\n",
    "X_val = np.reshape(gt_2d_val, (gt_2d_val.shape[0], 16 * 2))\n",
    "Y_val = np.reshape(gt_3d_val_rel, (gt_3d_val_rel.shape[0], 15 * 3))"
   ]
  },
  {
   "cell_type": "markdown",
   "metadata": {},
   "source": [
    "### Define Error Calculation Function"
   ]
  },
  {
   "cell_type": "markdown",
   "metadata": {},
   "source": [
    "Error in 3D Euclidean Space between joint prediction and joint ground truth"
   ]
  },
  {
   "cell_type": "code",
   "execution_count": 5,
   "metadata": {},
   "outputs": [],
   "source": [
    "def MPJPE_error(gt, pred): ## both prediction and ground truth in N*15*3, I will use this function to calculate final error and rank\n",
    "    error = (gt - pred) ** 2\n",
    "    pjpe = np.sum(error, 2) ** (1 / 2)\n",
    "    mpjpe = np.mean(pjpe)\n",
    "    return mpjpe"
   ]
  },
  {
   "cell_type": "markdown",
   "metadata": {},
   "source": [
    "### Linear Regression Model"
   ]
  },
  {
   "cell_type": "markdown",
   "metadata": {},
   "source": [
    "Documentation: https://scikit-learn.org/stable/modules/generated/sklearn.linear_model.LinearRegression.html"
   ]
  },
  {
   "cell_type": "markdown",
   "metadata": {},
   "source": [
    "Linear Regression fits a linear model with coefficients w = (w1, ..., wp) to minimize the residual sum of squares between the observed targets in the dataset, and the targets predicted by the linear approximation."
   ]
  },
  {
   "cell_type": "code",
   "execution_count": 6,
   "metadata": {},
   "outputs": [],
   "source": [
    "from sklearn.linear_model import LinearRegression\n",
    "\n",
    "if run_linear_regression:\n",
    "    regr_1 = linear_model.LinearRegression()\n",
    "    regr_1.fit(X, Y)\n",
    "    Y_val_pred_1 = regr_1.predict(X_val)\n",
    "    Y_val_pred_reshape_1 = np.reshape(Y_val_pred_1, (Y_val_pred_1.shape[0], 15, 3))\n",
    "    print(MPJPE_error(gt_3d_val_rel, Y_val_pred_reshape_1))"
   ]
  },
  {
   "cell_type": "markdown",
   "metadata": {},
   "source": [
    "Best Error: __105.8613803487669__"
   ]
  },
  {
   "cell_type": "markdown",
   "metadata": {},
   "source": [
    "### Random Forest Regressor Model"
   ]
  },
  {
   "cell_type": "markdown",
   "metadata": {},
   "source": [
    "Documentation: https://scikit-learn.org/stable/modules/generated/sklearn.ensemble.RandomForestRegressor.html"
   ]
  },
  {
   "cell_type": "markdown",
   "metadata": {},
   "source": [
    "A random forest is a meta estimator that fits a number of classifying decision trees on vairous sub-samples of the dataset and uses averaging to improve the predictive accuracy and control over-fitting. The sub-sample size is controlled with the max_samples parameter if bootstrap = True (default), otherwise the whole dataset is used to build each tree."
   ]
  },
  {
   "cell_type": "markdown",
   "metadata": {},
   "source": [
    "__Takes forever to run__"
   ]
  },
  {
   "cell_type": "code",
   "execution_count": 7,
   "metadata": {},
   "outputs": [],
   "source": [
    "from sklearn.ensemble import RandomForestRegressor\n",
    "\n",
    "if run_random_forest_regressor:\n",
    "    regr_2 = RandomForestRegressor()\n",
    "    regr_2.fit(X, Y)\n",
    "    Y_val_pred_2 = regr_2.predict(X_val)\n",
    "    Y_val_pred_reshape_2 = np.reshape(Y_val_pred_2, (Y_val_pred_2.shape[0], 15, 3))\n",
    "    print(Y_val_pred_reshape_2.shape)\n",
    "    print(MPJPE_error(gt_3d_val_rel, Y_val_pred_reshape_2))"
   ]
  },
  {
   "cell_type": "markdown",
   "metadata": {},
   "source": [
    "### Decision Tree Regressor Model"
   ]
  },
  {
   "cell_type": "markdown",
   "metadata": {},
   "source": [
    "Documentation: https://scikit-learn.org/stable/modules/generated/sklearn.tree.DecisionTreeRegressor.html#sklearn.tree.DecisionTreeRegressor"
   ]
  },
  {
   "cell_type": "code",
   "execution_count": 8,
   "metadata": {},
   "outputs": [],
   "source": [
    "from sklearn.tree import DecisionTreeRegressor\n",
    "\n",
    "if run_decision_tree_regressor:\n",
    "    regr_3 = DecisionTreeRegressor(random_state = 0)\n",
    "    regr_3.fit(X, Y)\n",
    "    Y_val_pred_3 = regr_3.predict(X_val)\n",
    "    Y_val_pred_reshape_3 = np.reshape(Y_val_pred_3, (Y_val_pred_3.shape[0], 15, 3))\n",
    "    print(MPJPE_error(gt_3d_val_rel, Y_val_pred_reshape_3))"
   ]
  },
  {
   "cell_type": "markdown",
   "metadata": {},
   "source": [
    "Best Error: __139.53805192206954__"
   ]
  },
  {
   "cell_type": "markdown",
   "metadata": {},
   "source": [
    "### Ada Boost Regressor Model"
   ]
  },
  {
   "cell_type": "markdown",
   "metadata": {},
   "source": [
    "Documentation: https://scikit-learn.org/stable/modules/generated/sklearn.ensemble.AdaBoostRegressor.html"
   ]
  },
  {
   "cell_type": "markdown",
   "metadata": {},
   "source": [
    "An AdaBoost regressor is a meta-estimator that begins by fitting a regressor on the original dataset and then fits additional copies of the regressor on the same dataset but where the weights of instances are adjusted according to the error of the current prediction. As such, subsequent regressors focus more on difficult cases."
   ]
  },
  {
   "cell_type": "markdown",
   "metadata": {},
   "source": [
    "__ValueError: bad input shape (222514, 45)__"
   ]
  },
  {
   "cell_type": "code",
   "execution_count": 9,
   "metadata": {
    "scrolled": true
   },
   "outputs": [],
   "source": [
    "from sklearn.ensemble import AdaBoostRegressor\n",
    "\n",
    "if run_ada_boost_regressor:\n",
    "    regr_4 = AdaBoostRegressor(random_state = 0, n_estimators = 100)\n",
    "    regr_4.fit(X, Y)\n",
    "    Y_val_pred_4 = regr_4.predict(X_val)\n",
    "    Y_val_pred_reshape_4 = np.reshape(Y_val_pred_4, (Y_val_pred_4.shape[0], 15, 3))\n",
    "    print(MPJPE_error(gt_3d_val_rel, Y_val_pred_reshape_4))"
   ]
  },
  {
   "cell_type": "markdown",
   "metadata": {},
   "source": [
    "### [Logistic Regression Model](https://scikit-learn.org/stable/modules/generated/sklearn.linear_model.LogisticRegression.html)\n",
    "\n",
    "This is for documentation only; logistic regression is actually a classifier.\n",
    "\n",
    "**bad input shape (222514, 45)**"
   ]
  },
  {
   "cell_type": "code",
   "execution_count": 10,
   "metadata": {},
   "outputs": [],
   "source": [
    "from sklearn.linear_model import LogisticRegression\n",
    "\n",
    "if run_logistic_regression:\n",
    "    regr_5 = LogisticRegression().fit(X, Y)\n",
    "    Y_val_pred_5 = regr_5.predict(X_val)\n",
    "    Y_val_pred_reshape_5 = np.reshape(Y_val_pred_5, (Y_val_pred_5.shape[0], 15, 3))\n",
    "    print(MPJPE_error(gt_3d_val_rel, Y_val_pred_reshape_5))"
   ]
  },
  {
   "cell_type": "markdown",
   "metadata": {},
   "source": [
    "### [Ridge](https://scikit-learn.org/stable/modules/generated/sklearn.linear_model.Ridge.html)\n",
    "\n",
    "Linear least squares with l2 regularization."
   ]
  },
  {
   "cell_type": "code",
   "execution_count": 11,
   "metadata": {},
   "outputs": [],
   "source": [
    "from sklearn.linear_model import Ridge\n",
    "\n",
    "if run_ridge:\n",
    "    regr_6 = Ridge().fit(X, Y)\n",
    "    Y_val_pred_6 = regr_6.predict(X_val)\n",
    "    Y_val_pred_reshape_6 = np.reshape(Y_val_pred_6, (Y_val_pred_6.shape[0], 15, 3))\n",
    "    print(MPJPE_error(gt_3d_val_rel, Y_val_pred_reshape_6))"
   ]
  },
  {
   "cell_type": "markdown",
   "metadata": {},
   "source": [
    "Best Error: **105.86082463709646**"
   ]
  },
  {
   "cell_type": "markdown",
   "metadata": {},
   "source": [
    "### [SDGRegressor](https://scikit-learn.org/stable/modules/generated/sklearn.linear_model.SGDRegressor.html)\n",
    "\n",
    "Linear model fitted by minimizing a regularized empirical loss with SGD\n",
    "\n",
    "**ValueError: bad input shape (222514, 45)**"
   ]
  },
  {
   "cell_type": "code",
   "execution_count": 12,
   "metadata": {},
   "outputs": [],
   "source": [
    "from sklearn.linear_model import SGDRegressor\n",
    "\n",
    "if run_sdg_regressor:\n",
    "    regr_7 = SGDRegressor().fit(X, Y)\n",
    "    Y_val_pred_7 = regr_7.predict(X_val)\n",
    "    Y_val_pred_reshape_7 = np.reshape(Y_val_pred_7, (Y_val_pred_7.shape[0], 15, 3))\n",
    "    print(MPJPE_error(gt_3d_val_rel, Y_val_pred_reshape_7))"
   ]
  },
  {
   "cell_type": "markdown",
   "metadata": {},
   "source": [
    "### [Lars](https://scikit-learn.org/stable/modules/generated/sklearn.linear_model.Lars.html)\n",
    "\n",
    "Least Angle Regression model a.k.a. LAR."
   ]
  },
  {
   "cell_type": "code",
   "execution_count": 13,
   "metadata": {},
   "outputs": [],
   "source": [
    "from sklearn.linear_model import Lars\n",
    "\n",
    "if run_lars:\n",
    "    regr_8 = Lars().fit(X, Y)\n",
    "    Y_val_pred_8 = regr_8.predict(X_val)\n",
    "    Y_val_pred_reshape_8 = np.reshape(Y_val_pred_8, (Y_val_pred_8.shape[0], 15, 3))\n",
    "    print(MPJPE_error(gt_3d_val_rel, Y_val_pred_reshape_8))"
   ]
  },
  {
   "cell_type": "markdown",
   "metadata": {},
   "source": [
    "Best error: **452862635248192.9**"
   ]
  },
  {
   "cell_type": "markdown",
   "metadata": {},
   "source": [
    "### [LassoLars](https://scikit-learn.org/stable/modules/generated/sklearn.linear_model.LassoLars.html)\n",
    "\n",
    "Lasso model fit with Least Angle Regression a.k.a. Lars.\n",
    "\n",
    "It is a Linear Model trained with an L1 prior as regularizer."
   ]
  },
  {
   "cell_type": "code",
   "execution_count": 14,
   "metadata": {},
   "outputs": [],
   "source": [
    "from sklearn.linear_model import LassoLars\n",
    "\n",
    "if run_lasso_lars:\n",
    "    regr_9 = Lars().fit(X, Y)\n",
    "    Y_val_pred_9 = regr_9.predict(X_val)\n",
    "    Y_val_pred_reshape_9 = np.reshape(Y_val_pred_9, (Y_val_pred_9.shape[0], 15, 3))\n",
    "    print(MPJPE_error(gt_3d_val_rel, Y_val_pred_reshape_9))"
   ]
  },
  {
   "cell_type": "markdown",
   "metadata": {},
   "source": [
    "Best error: **452862635248192.9**"
   ]
  },
  {
   "cell_type": "markdown",
   "metadata": {},
   "source": [
    "### [MLPRegressor](https://scikit-learn.org/stable/modules/generated/sklearn.neural_network.MLPRegressor.html)\n",
    "\n",
    "Multi-layer Perceptron regressor.\n",
    "\n",
    "This model optimizes the squared-loss using LBFGS or stochastic gradient descent."
   ]
  },
  {
   "cell_type": "code",
   "execution_count": 15,
   "metadata": {},
   "outputs": [],
   "source": [
    "from sklearn.neural_network import MLPRegressor\n",
    "\n",
    "if run_mlp_regressor:\n",
    "    regr_10 = Lars().fit(X, Y)\n",
    "    Y_val_pred_10 = regr_10.predict(X_val)\n",
    "    Y_val_pred_reshape_10 = np.reshape(Y_val_pred_10, (Y_val_pred_10.shape[0], 15, 3))\n",
    "    print(MPJPE_error(gt_3d_val_rel, Y_val_pred_reshape_10))"
   ]
  },
  {
   "cell_type": "markdown",
   "metadata": {},
   "source": [
    "Best error: **452862635248192.9**"
   ]
  }
 ],
 "metadata": {
  "kernelspec": {
   "display_name": "Python 3",
   "language": "python",
   "name": "python3"
  },
  "language_info": {
   "codemirror_mode": {
    "name": "ipython",
    "version": 3
   },
   "file_extension": ".py",
   "mimetype": "text/x-python",
   "name": "python",
   "nbconvert_exporter": "python",
   "pygments_lexer": "ipython3",
   "version": "3.8.1"
  }
 },
 "nbformat": 4,
 "nbformat_minor": 2
}
